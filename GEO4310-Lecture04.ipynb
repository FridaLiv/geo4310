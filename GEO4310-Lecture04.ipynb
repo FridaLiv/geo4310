{
 "cells": [
  {
   "cell_type": "markdown",
   "metadata": {},
   "source": [
    "#Lecture 4: Normal distribution and other continuous distributions\n",
    "Irene Brox Nilsen, 4. September 2015\n",
    "\n",
    "##Outline\n",
    "* Continuous probability distributions: the basics\n",
    "    * Moments\n",
    "* Normal distribution\n",
    "    * Standard normal distribution\n",
    "    * 68-95-99 rule\n",
    "    * Reproducible properties\n",
    "    * Constructing pdfs to data\n",
    "    * Central limit theorem\n",
    "* Normal approximations to other distributions\n",
    "    * Binomial distribution\n",
    "    * Poisson distribution\n",
    "* Lognormal distribution\n",
    "* Chi square distribution\n",
    "* Student t distribution\n",
    "* F distribution\n",
    "* Extreme value distributions\n"
   ]
  },
  {
   "cell_type": "code",
   "execution_count": 1,
   "metadata": {
    "collapsed": false
   },
   "outputs": [],
   "source": [
    "## Import packages needed to do calculations and plotting\n",
    "# required to keep the plots in the notebook, not in an external window\n",
    "%matplotlib inline\n",
    "import numpy as np\n",
    "import pandas as pd\n",
    "import math\n",
    "from scipy import stats                 # required to use norm.pdf, norm.cdf\n",
    "import matplotlib.pyplot as plt         # required to plot"
   ]
  },
  {
   "cell_type": "markdown",
   "metadata": {},
   "source": [
    "# Continuous probability distributions: the basics\n",
    "###### From discrete to continuous distributions\n",
    "You've talked about discrete probability distributions. Some variables may be measured infinitely detailed. In that case, you may reduce the bin width and get more and more bins. This shape approximates a curve. Some of the curves are given by mathematical functions, which we'll talk about today.\n",
    "\n",
    "###### Properties of probability distributions\n",
    "* The area under the curve = 1\n",
    "* $P(a \\leq X \\leq b)$ is the area under the curve from $a$ to $b$\n",
    "* The curve is never negative, that is $f(x) \\geq 0$\n",
    "\n",
    "The first point, can also be stated as \"the integral of the probability density function equals one\", or \n",
    "\n",
    "$F(x) = \\int_{-\\infty}^{\\infty} f(x) dx = 1$. \n",
    "\n",
    "Use this to solve question 3a in exercise 1.\n",
    "\n",
    "###### How do we characterize large datasets? Let's look at a dataset from all possible angles.\n",
    "\n",
    "###### Measures of central tendency\n",
    "* Mean (also called average, or expected value)\n",
    "* Median\n",
    "* Mode\n",
    "\n",
    "How should we define these measures mathematically to solve question 3d, 3e and 3f in exercise 1?\n",
    "\n",
    "###### Measures of spread\n",
    "* Variance\n",
    "* Standard deviation\n",
    "* Coefficient of variation\n",
    "\n",
    "###### Measure of skewness\n",
    "* Skewness\n",
    "\n",
    "Learning goal 1: understand what these measures are and where they are marked off the curve. <br/>\n",
    "Learning goal 2: understand what happens if the mean, standard deviation or skewness is changed. http://www.ipcc.ch/report/graphics/index.php?t=Assessment%20Reports&r=AR5%20-%20WG1&f=Chapter%2001"
   ]
  },
  {
   "cell_type": "code",
   "execution_count": null,
   "metadata": {
    "collapsed": true
   },
   "outputs": [],
   "source": []
  },
  {
   "cell_type": "code",
   "execution_count": 2,
   "metadata": {
    "collapsed": false
   },
   "outputs": [
    {
     "name": "stdout",
     "output_type": "stream",
     "text": [
      "('Mean = ', 2.063778939507092)\n",
      "('Median = ', 0.0)\n",
      "('Mode = ', 0    0\n",
      "dtype: float64)\n",
      "('Variance = ', 25.120308724028334)\n",
      "('Stdev = ', 5.012016432936781)\n",
      "('Cv = ', 2.428562641565593)\n",
      "('Skewness = ', 8.1540160095152778)\n"
     ]
    }
   ],
   "source": [
    "# Assume a normal distribution (heights) as an example of a continuous distribution. Where would these numbers be marked off the curve?\n",
    "# Then find the numbers for the daily Uppsala precipitation (in EX1 - it is done for monthly data), and try to sketch the distribution.\n",
    "\n",
    "precip_daily=pd.read_table(\"P_Uppsala.dat\",header=None,names=['year','month','day','prec'])\n",
    "## P_daily = precip_daily.as_matrix()\n",
    "## type(P_daily)\n",
    "\n",
    "# Measures of central tendency\n",
    "print('Mean = '  , precip_daily['prec'].mean())    # The balance point of the dataset. Influenced by outliers. \n",
    "print('Median = ', precip_daily['prec'].median())  # The middle value of the dataset, _sorted_ from smallest to largest. 50%.\n",
    "print('Mode = '  , precip_daily['prec'].mode())    # The most common values in the dataset.\n",
    "\n",
    "# Measures of spread\n",
    "print('Variance = ', precip_daily['prec'].var())     # Variance is the average squared deviation in the dataset.\n",
    "print('Stdev = '   , precip_daily['prec'].std())     # Standard deviation is the square root of the variance. The units of std and mean are the same.\n",
    "print('Cv = '      , precip_daily['prec'].std()/precip_daily['prec'].mean())  # The coefficient of variation is std relative to the mean.  \n",
    "\n",
    "# Measure of skewness\n",
    "print('Skewness = ', precip_daily['prec'].skew())    # Skewness is the degree of asymmetry in the distribution.\n",
    "\n",
    "# Let's sketch the distribution of daily precipitation according to these numbers. (on the blackboard)\n",
    "\n",
    "# Daily observations of rainfall are known to have heavy tails, because it is possible to get a rainfall value that is \n",
    "# very much larger than the median/mode, but values that are much less than the median/mode do not occur. (The median\n",
    "# and mode of a rainfall station is 0 if more than half of the days do not experience rain. 1. sept 2015, an extreme\n",
    "# event resulted in 118 mm rainfall recorded in 24 hours in Postmyr and 104 mm in Lier.) \n"
   ]
  },
  {
   "cell_type": "code",
   "execution_count": 3,
   "metadata": {
    "collapsed": false
   },
   "outputs": [
    {
     "ename": "NameError",
     "evalue": "name 'P_daily' is not defined",
     "output_type": "error",
     "traceback": [
      "\u001b[1;31m---------------------------------------------------------------------------\u001b[0m",
      "\u001b[1;31mNameError\u001b[0m                                 Traceback (most recent call last)",
      "\u001b[1;32m<ipython-input-3-6a664fcbe9d0>\u001b[0m in \u001b[0;36m<module>\u001b[1;34m()\u001b[0m\n\u001b[0;32m      1\u001b[0m \u001b[1;31m# MATRIX FORM, instead of dataframe. Consider converting into matrix if time.\u001b[0m\u001b[1;33m\u001b[0m\u001b[1;33m\u001b[0m\u001b[0m\n\u001b[0;32m      2\u001b[0m \u001b[1;31m# Measures of central tendency\u001b[0m\u001b[1;33m\u001b[0m\u001b[1;33m\u001b[0m\u001b[0m\n\u001b[1;32m----> 3\u001b[1;33m \u001b[1;32mprint\u001b[0m\u001b[1;33m(\u001b[0m\u001b[0mP_daily\u001b[0m\u001b[1;33m[\u001b[0m\u001b[1;33m:\u001b[0m\u001b[1;33m,\u001b[0m\u001b[1;36m3\u001b[0m\u001b[1;33m]\u001b[0m\u001b[1;33m.\u001b[0m\u001b[0mmean\u001b[0m\u001b[1;33m(\u001b[0m\u001b[1;33m)\u001b[0m\u001b[1;33m)\u001b[0m    \u001b[1;31m# The balance point of the dataset. Influenced by outliers.\u001b[0m\u001b[1;33m\u001b[0m\u001b[0m\n\u001b[0m\u001b[0;32m      4\u001b[0m \u001b[1;32mprint\u001b[0m\u001b[1;33m(\u001b[0m\u001b[0mP_daily\u001b[0m\u001b[1;33m[\u001b[0m\u001b[1;33m:\u001b[0m\u001b[1;33m,\u001b[0m\u001b[1;36m3\u001b[0m\u001b[1;33m]\u001b[0m\u001b[1;33m.\u001b[0m\u001b[0mmedian\u001b[0m\u001b[1;33m(\u001b[0m\u001b[1;33m)\u001b[0m\u001b[1;33m)\u001b[0m  \u001b[1;31m# The middle value of the dataset, _sorted_ from smallest to largest. 50%.\u001b[0m\u001b[1;33m\u001b[0m\u001b[0m\n\u001b[0;32m      5\u001b[0m \u001b[1;32mprint\u001b[0m\u001b[1;33m(\u001b[0m\u001b[0mP_daily\u001b[0m\u001b[1;33m[\u001b[0m\u001b[1;33m:\u001b[0m\u001b[1;33m,\u001b[0m\u001b[1;36m3\u001b[0m\u001b[1;33m]\u001b[0m\u001b[1;33m.\u001b[0m\u001b[0mmode\u001b[0m\u001b[1;33m(\u001b[0m\u001b[1;33m)\u001b[0m\u001b[1;33m)\u001b[0m    \u001b[1;31m# The most common values in the dataset.\u001b[0m\u001b[1;33m\u001b[0m\u001b[0m\n",
      "\u001b[1;31mNameError\u001b[0m: name 'P_daily' is not defined"
     ]
    }
   ],
   "source": [
    "# MATRIX FORM, instead of dataframe. Consider converting into matrix if time.\n",
    "# Measures of central tendency\n",
    "print(P_daily[:,3].mean())    # The balance point of the dataset. Influenced by outliers. \n",
    "print(P_daily[:,3].median())  # The middle value of the dataset, _sorted_ from smallest to largest. 50%.\n",
    "print(P_daily[:,3].mode())    # The most common values in the dataset.\n",
    "\n",
    "# Measures of spread\n",
    "print(P_daily[:,3].var())     # Variance is the average squared deviation in the dataset.\n",
    "print(P_daily[:,3].std())     # Standard deviation is the square root of the variance. The units of std and mean are the same.\n",
    "print(P_daily[:,3].std()/precip_daily[:,4].mean())  # The coefficient of variation is std relative to the mean.  \n",
    "\n",
    "# Measure of skewness\n",
    "print(precip_daily[:,3].skew())    # Skewness is the degree of asymmetry in the distribution.\n"
   ]
  },
  {
   "cell_type": "markdown",
   "metadata": {},
   "source": [
    "# The normal distribution\n",
    "###### How do we know whether a dataset follows the normal distribution, and if it is skewed, how can we find out what distribution it follows? Let's try the normal distribution and see if it fits our daily precipitation. First, some basics about the normal distribution."
   ]
  },
  {
   "cell_type": "code",
   "execution_count": 4,
   "metadata": {
    "collapsed": true
   },
   "outputs": [],
   "source": [
    "# I didn't find any real normally distributed data, so I'm generating a vector of \n",
    "# 500 normally distributed data having mean = 16 and standard deviation = 3 (which is not unrealistic summer temperatures in Oslo).\n",
    "generated_data = np.random.normal(loc=16, scale=3, size=500)"
   ]
  },
  {
   "cell_type": "code",
   "execution_count": 5,
   "metadata": {
    "collapsed": false
   },
   "outputs": [],
   "source": [
    "# Plot a histogram of generated data.\n",
    "# plt.hist(generated_data, bins = 12, normed = False)\n",
    "# plt.show()"
   ]
  },
  {
   "cell_type": "markdown",
   "metadata": {},
   "source": [
    "What have we plotted above? Describe the shape. <br/ >\n",
    "What names would you give to the axes?"
   ]
  },
  {
   "cell_type": "code",
   "execution_count": 6,
   "metadata": {
    "collapsed": false
   },
   "outputs": [],
   "source": [
    "## Example for the students to try at home:\n",
    "# Change the mean to 18\n",
    "generated_data_changed_mean = np.random.normal(loc=18, scale=3, size=500)\n",
    "# plt.hist(generated_data,              bins = 12, normed = False)               # plot the original dataset again\n",
    "# plt.hist(generated_data_changed_mean, bins = 12, normed = False, alpha = 0.7)  # then plot the data with changed mean, transparent\n",
    "# plt.show()      # What is the effect of changing the mean? It is easier to see when a larger dataset is generated."
   ]
  },
  {
   "cell_type": "code",
   "execution_count": 7,
   "metadata": {
    "collapsed": false
   },
   "outputs": [],
   "source": [
    "## Example for the students to try at home, continued:\n",
    "# Change the standard deviation to 5 \n",
    "generated_data_changed_std = np.random.normal(loc=16, scale=5, size=500)\n",
    "# plt.hist(generated_data,             bins = 12, normed = False)                # plot the original dataset again\n",
    "# plt.hist(generated_data_changed_std, bins = 12, normed = False, alpha = 0.7)   # then plot the data with changed standard deviation\n",
    "# plt.show()    # What is the effect of increasing the standard deviation?"
   ]
  },
  {
   "cell_type": "code",
   "execution_count": 8,
   "metadata": {
    "collapsed": false,
    "scrolled": true
   },
   "outputs": [],
   "source": [
    "# Before we plot normal distribution curve, let's generate a larger dataset\n",
    "generated_data = np.random.normal(loc=16, scale=3, size=10000)    # generate a larger sample of normally distributed data\n",
    "# plt.hist(generated_data,             bins = 50, normed = True)    # plot the generated data. 'normed' must equal True.\n",
    "# plt.show()"
   ]
  },
  {
   "cell_type": "code",
   "execution_count": 9,
   "metadata": {
    "collapsed": false
   },
   "outputs": [
    {
     "data": {
      "image/png": "[encoded data removed]",
      "text/plain": [
       "<matplotlib.figure.Figure at 0x7ff4214f32d0>"
      ]
     },
     "metadata": {},
     "output_type": "display_data"
    }
   ],
   "source": [
    "# Plot the normal distribution curve. \n",
    "# To do this, we need to import matplotlib.mlab as mlab and use the function normpdf\n",
    "my_mean = 16\n",
    "my_std = 3\n",
    "\n",
    "generated_data = np.random.normal(loc=my_mean, scale=my_std, size=10000)# generate a larger sample of normally distributed data\n",
    "plt.hist(generated_data,             bins = 50, normed = True)          # plot the generated data. 'normed' must equal True.\n",
    "x = np.linspace(my_mean-3*my_std,my_mean+3*my_std,100)                  # define the x values that we want in our plot\n",
    "plt.plot(x,stats.norm.pdf(x,my_mean,my_std), color=\"black\", linewidth=3)# plot the normal distribution curve\n",
    "plt.show()\n",
    "# Does the curve fit the data?"
   ]
  },
  {
   "cell_type": "markdown",
   "metadata": {},
   "source": [
    "The normal distribution curve is given as <br/ >\n",
    "$f(x) = \\frac{1}{\\sigma \\sqrt{2 \\pi}}\\exp(\\frac{-(x-\\mu)^2}{2 \\sigma^2})$ <br/ >\n",
    "Which parameters does it require? How do they change the curve? <br/ >\n",
    "\n",
    "$f(x)$ is called the probabiliby density function, or PDF.  <br/ >\n",
    "How do we read off any percentiles from this curve, for instance the 90th percentile? <br/ >\n",
    "The answer is: we can't. The 90th percentile is the x value up to which the area under the curve is 0.9.  <br/ >\n",
    "\n",
    "We may plot the distribution in a different way to make it easier to read off percentiles: <br/ >\n",
    "The cumulative distribution function, or CDF.\n",
    "(The normal cdf is not given as a formula because the integral of $f(x)$ is not analytically solvable.)\n",
    "\n",
    "Learning goal 3: understand the difference between the pdf and the cdf."
   ]
  },
  {
   "cell_type": "code",
   "execution_count": 10,
   "metadata": {
    "collapsed": false
   },
   "outputs": [
    {
     "data": {
      "image/png": "[encoded data removed]",
      "text/plain": [
       "<matplotlib.figure.Figure at 0x7ff42124b890>"
      ]
     },
     "metadata": {},
     "output_type": "display_data"
    }
   ],
   "source": [
    "# To match the data with the curve, we first need to find the cumulative values of our histogram.\n",
    "generated_data = np.random.normal(loc=my_mean, scale=my_std, size=10000)# generate a larger sample of normally distributed data\n",
    "plt.hist(generated_data,             bins = 50, normed = True, cumulative=False)          # plot the generated data. 'normed' must equal True.\n",
    "x = np.linspace(my_mean-3*my_std,my_mean+3*my_std,100)                  # define the x values that we want in our plot\n",
    "plt.plot(x,stats.norm.cdf(x,my_mean,my_std), color=\"black\", linewidth=3)# plot the normal distribution curve\n",
    "plt.show()\n",
    "# Does the curve fit the data? Try changing cumulative=False into cumulative=True in line \"plt.hist...\"."
   ]
  },
  {
   "cell_type": "code",
   "execution_count": 12,
   "metadata": {
    "collapsed": false
   },
   "outputs": [
    {
     "name": "stdout",
     "output_type": "stream",
     "text": [
      "136.6\n"
     ]
    },
    {
     "data": {
      "image/png": "[encoded data removed]",
      "text/plain": [
       "<matplotlib.figure.Figure at 0x7ff42135ded0>"
      ]
     },
     "metadata": {},
     "output_type": "display_data"
    }
   ],
   "source": [
    "# Next, let's fit the normal distribution to our daily precipitation data - first the probability density function.\n",
    "P_daily = precip_daily.as_matrix()\n",
    "#plt.hist(P_daily[:,3],   bins = 20, normed = True)                      # plot the daily precipitaion data\n",
    "print(P_daily[:,3].max())                                               # What's the largest number we plot?\n",
    "\n",
    "x = np.linspace(my_mean-3*my_std,my_mean+3*my_std,100)                  # define the x values that we want in our plot\n",
    "#plt.plot(x,stats.norm.pdf(x,my_mean,my_std), color=\"black\", linewidth=3)# plot the normal distribution curve\n",
    "#plt.show()\n",
    "# Does the curve fit the data?\n",
    "\n",
    "# Second, we fit the cumulative distribution function to the data:\n",
    "\n",
    "plt.hist(P_daily[:,3],   bins = 20, normed = True, cumulative=True)     # Add cumulative=True               \n",
    "x = np.linspace(my_mean-3*my_std,my_mean+3*my_std,100)                  # define the x values that we want in our plot\n",
    "#plt.plot(x,stats.norm.cdf(x,my_mean,my_std), color=\"black\", linewidth=3)# changes stats.norm.pdf into stats.norm.cdf\n",
    "#plt.show()\n",
    "# Does the curve fit the data? Can we conclude that the daily precipitation is normally distributed?"
   ]
  },
  {
   "cell_type": "markdown",
   "metadata": {},
   "source": [
    "## Standard normal distribution\n",
    "\n",
    "Because $f(x)$ is not analytically integrable, we use a table of probabilities to find the integral up to a value x. This table is developed for the case when the normal distribution has $\\mu=0$ and $\\sigma=1$, that is <br/ >\n",
    "$f(z) = \\frac{1}{\\sqrt{2 \\pi}}\\exp(\\frac{-z^2}{2})$ <br/ >\n",
    "\n",
    "This is called the standard normal distribution, and we replace x with z whenever we use it.\n",
    "\n",
    "If you're data is normally distributed with different $\\mu$ and $\\sigma$, transform it into the standard normal by subtracting $\\mu$ from all data, and dividing by $\\sigma$. Then look up in the table: https://en.wikipedia.org/wiki/Standard_normal_table#Cumulative\n",
    "Last, transform you data back to what they were.\n",
    "\n",
    "#### Example 4.3 in the compendium\n",
    "######What is the probability for any given year the annual maximum discharge is less than 8 m$^3$/s <br/ > for annual maximum  discharge having mean = 10m$^3$/s and standard deviation = 3 m$^3$/s?\n",
    "\n",
    "First, standardize: <br/ >\n",
    "$\\frac{8-\\mu}{\\sigma}$ <br/ >\n",
    "insert values\n",
    "$\\frac{8-10}{3}$ = -2/3 = -0.67 <br/ >\n",
    "The Z value corresponding to 8 m$^3$/s is -0.67.\n",
    "\n",
    "When we look up in the table, we see that Z = -0.67 corresponds to a probability of 0.251.\n",
    "Thus, the probability that the annual maximum discharge is less than 8 m$^3$/s is 25 %.\n",
    "\n",
    "Let's expand this example and make a table of different discharge values and their corresponding Z values and probabilities:\n",
    "######What is the probability that the discharge is less than 1, 4, 7, 10, 13, 16 and 19 m$^3$/s?\n",
    "\n",
    "|x   | calculation|   = Z  | p(z) |\n",
    "|------|----------|--------|------|\n",
    "|x<1   | (1-1)/3  | = -3   |  0.1 |\n",
    "|x<4   | (1-4)/3  | = -2   |  2.3 |\n",
    "|x<7   | (1-7)/3  | = .... |  ... |\n",
    "|x<10  | (1-10)/3 | = .... |  ... |\n",
    "|x<13  | (1-13)/3 | = .... |  ... |\n",
    "|x<16  | (1-16)/3 | = .... |  ... |\n",
    "|x<19  | (1-19)/3 | = .... |  ... |\n",
    "\n",
    "What is the probability that the discharge is between 7 and 13 m$^3/s$, 4 and 16 m$^3/s$, 1 and 19 m$^3/s$?\n",
    "\n",
    "$P(7 < x < 13) = $ ?<br/ >\n",
    "$P(4 < x < 16) = $ ?<br/ >\n",
    "$P(1 < x < 19) = $ ?<br/ >\n",
    "\n",
    "Learning goal 4: be able to calculate probabilities for normally distributed variables."
   ]
  },
  {
   "cell_type": "markdown",
   "metadata": {},
   "source": [
    "## The 68-95-99 rule, or the empirical rule\n",
    "For normal distributions, <br/ >\n",
    "68 % of the observations fall within 1 standard deviation around the mean <br/ >\n",
    "95 % of the observations fall within 2 standard deviations around the mean <br/ >\n",
    "99 % of the observations fall within 3 standard deviations around the mean (almost all observations fall within 3 $\\sigma$).\n",
    "\n",
    "This property can be used to justify the use of the normal distribution even if the hydrological variable is bounded by x = 0. See example 4.1 in the compendium. $\\mu$ = 600, $\\sigma$ = 100.\n",
    "\n",
    "Z = $\\frac{0 - 600}{100} = -6$\n",
    "\n",
    "What does this result tell us?"
   ]
  },
  {
   "cell_type": "code",
   "execution_count": 39,
   "metadata": {
    "collapsed": true
   },
   "outputs": [],
   "source": []
  },
  {
   "cell_type": "markdown",
   "metadata": {},
   "source": [
    "## Central limit theorem \n",
    "Are the statistical properties of daily and monthly observations the same? What about annual observations? \n",
    "\n",
    "Monthly averages (normalized sum) of daily data - is found by taking the average of approx. 30 daily data. There are 365 daily data in an annual average. What happens to the variability when we take the average of many observations?\n",
    "\n",
    "$\\bar{X} = \\frac{1}{n}(X_1 + X_2 + ... + X_n)$  is approximately ~N($\\mu$, $\\frac{\\sigma}{\\sqrt(n)}$) <br/ >\n",
    "\n",
    "The central limit theorem says that the average of a variable is normally distributed when $n$ gets large. This has the practical implication that if you can divide a variable into independent subsets that are equally big (think: measuring the precipitation once a day), the total (annual rainfall) is approximately normally distributed. This is why the normal distribution shows up so many places.\n",
    "\n",
    "\"[T]he central limit theorem allows us to use normal probability calculations to answer questions about sample means (read: monthly or annual averages) even when the population distribution (read: daily data) is not normal\" (Moore and McCabe, Introduction to the practice of statistics)\n",
    "\n",
    "In the compendium, it says that the sum (instead of average) of a variable is normally distributed when $n$ gets large: <br/ >\n",
    "$\\bar{X} = (X_1 + X_2 + ... + X_n)$  is approximately ~N(?, ?)\n",
    "\n",
    "######What is the expected mean and average of the sum of variables? <br/ >\n",
    "Hint: use the \"Reproductive properties\" on page 50 in the compendium.\n",
    "\n",
    "Learning goal 5: understand what the central limit theorem means."
   ]
  },
  {
   "cell_type": "markdown",
   "metadata": {},
   "source": [
    "## Normal approximations to other distributions\n",
    "\n",
    "As a result of the central limit theorem, many distributions approach the normal distribution under certain conditions. The hypergeometric, binomial and poisson distributions approach normal when $n$ becomes large. Here, we may use a _continuous_ distribution to find approximate probabilities for _discrete_ distributions. This is very useful, because it is relatively simple to find probabilities for the standard normal distribution.\n",
    "\n",
    "Learning goal 6: understand why the normal distribution is used to approximate probabilities for discrete distributions."
   ]
  },
  {
   "cell_type": "code",
   "execution_count": null,
   "metadata": {
    "collapsed": true
   },
   "outputs": [],
   "source": []
  },
  {
   "cell_type": "markdown",
   "metadata": {},
   "source": [
    "### Binomial distribution\n",
    "A sum $Z = X_1+X_2+...+X_n$ of binomial random variables, approaches the normal distribution when $n$ is large.\n",
    "\n",
    "In the binomial distribution, we have two parameters: n and p<br/ >\n",
    "$\\mu = np$ <br/ >\n",
    "$\\sigma = np(1-p)$ \n",
    "\n",
    "In example 4.6 we're asked to find the probability that X is between 5 and 8. We'll approximate the binomial distribution with the normal distribution.\n",
    "\n",
    "The binomial random variables approach the standard normal distribution when we standardize:\n",
    "\n",
    "Z = $\\frac{X-\\mu}{\\sigma} = \\frac{(X - np)}{\\sqrt{(np(1-p))}}$\n",
    "\n",
    "Note that the approximation becomes even better when we adjust the X values according to table 4.2 in the compendium.\n",
    "It means that we include whole rectangles of the histogram. See figure 2 here:\n",
    "http://revisionmaths.com/advanced-level-maths-revision/statistics/normal-approximations"
   ]
  },
  {
   "cell_type": "code",
   "execution_count": 116,
   "metadata": {
    "collapsed": false
   },
   "outputs": [],
   "source": [
    "## Example 4.6\n",
    "my_n = 25\n",
    "my_p = 0.3\n",
    "my_mean = my_n*my_p\n",
    "my_std = np.sqrt(my_n*my_p*(1-my_p))\n",
    "x = np.linspace(my_mean-3*my_std,my_mean+3*my_std,100)                  # define the x values that we want in our plot\n",
    "#plt.plot(x,stats.binom.cdf(x,my_n,my_p, loc=my_mean), color=\"red\", linewidth=3) # plot the binomial distribution curve\n",
    "#plt.plot(x,stats.norm.cdf(x,my_mean,my_std), color=\"black\", linewidth=1)# plot the normal distribution curve\n",
    "#plt.show()\n",
    "\n",
    "\n",
    "#print('The true value of P(5<X<8) = ', stats.binom.cdf(8,my_n,my_p)-stats.binom.cdf(5,my_n,my_p))\n",
    "#print('Approximate value of P(5<X<8) with standard normal = ', 0.587-0.138)\n",
    "#print('Approximate value of P(5.5<X<8.5) with standard normal = ', 0.670-0.192)\n",
    "\n",
    "## The approximation is most accurate when p is close to 0.5. Try changing my_p above into 0.5 and 0.99."
   ]
  },
  {
   "cell_type": "markdown",
   "metadata": {},
   "source": [
    "### Poisson distribution\n",
    "In the Poisson distribution, we have one parameter: $\\lambda$<br/ >\n",
    "$\\mu = \\lambda$ <br/ >\n",
    "$\\sigma =\\sqrt{\\lambda}$ \n",
    "\n",
    "To transform to the standard normal distribution, we standardize:\n",
    "\n",
    "Z = $\\frac{X-\\mu}{\\sigma} = \\frac{(X - \\lambda)}{\\sqrt{\\lambda}}$\n"
   ]
  },
  {
   "cell_type": "code",
   "execution_count": 58,
   "metadata": {
    "collapsed": false
   },
   "outputs": [],
   "source": [
    "my_lambda=2\n",
    "my_mean = my_lambda\n",
    "my_std = np.sqrt(my_lambda)\n",
    "x = np.linspace(my_mean-3*my_std,my_mean+3*my_std,100)                  # define the x values that we want in our plot\n",
    "#plt.plot(x,stats.poisson.cdf(x,my_lambda), color=\"green\", linewidth=3) # plot the binomial distribution curve\n",
    "#plt.plot(x,stats.norm.cdf(x,my_mean,my_std), color=\"black\", linewidth=1)# plot the normal distribution curve\n",
    "#plt.show()"
   ]
  },
  {
   "cell_type": "markdown",
   "metadata": {},
   "source": [
    "## Lognormal distribution\n",
    "The next distribution we'll go through is not a discrete distribution like the binomial and poisson.\n",
    "The lognormal distribution is used when the observations are not normally distributed, but when the _logarithm_ of the observations are normally distributed.\n",
    "\n",
    "The lognormal distribution is known for its heavy left tail. Because the logarithm of negative numbers is between and 0 and 1, the lognormal distribution is bounded by zero.\n"
   ]
  },
  {
   "cell_type": "code",
   "execution_count": 130,
   "metadata": {
    "collapsed": false
   },
   "outputs": [],
   "source": [
    "## First, we generate data that are not normal, by applying a mathematical function to normal data\n",
    "my_mean=100\n",
    "generated_norm = np.random.normal(loc=my_mean, scale=my_std, size=500)\n",
    "data = np.exp(generated_norm)\n",
    "\n",
    "## Take the logarithm of the data:\n",
    "log_data = np.log(data)\n",
    "\n",
    "## Plot a new histogram of the logarithm of the dat\n",
    "## plt.hist(data,color=\"red\", bins = 12, normed= True, alpha=0.7)      # plot the non-normal data\n",
    "#plt.hist(log_data,   bins = 12, normed = True)                   # plot the logarithm of those data. They are normal.\n",
    "\n",
    "## Next, we fit the cumulative distribution function to the data:\n",
    "x = np.linspace(my_mean-3*my_std,my_mean+3*my_std,100)                  # define the x values that we want in our plot\n",
    "#plt.plot(x,stats.norm.pdf(x,my_mean,my_std), color=\"black\", linewidth=3)# changes stats.norm.pdf into stats.norm.cdf\n",
    "#plt.show()\n",
    "\n",
    "# If log_data is normally distributed with my_mean and my_std, we say that data is lognormally distributed with my_mean and my_std."
   ]
  },
  {
   "cell_type": "markdown",
   "metadata": {},
   "source": [
    "## Chi square distribution ($\\chi^2$)\n",
    "Up until now, we've looked at the distribution of sums or averages ($\\bar{X}$) of random variables. This next distribution is used to find the distribution of the sum of squares ($X^2$).\n",
    "It is among other things used in calculating confidence interval of variance $\\Big( S^2 = \\frac{1}{n-1}\\sum_{i=1}^n(X-\\bar{X})^2 \\Big)$.\n",
    "\n",
    "If $X_1, X_2, ..., X_n$ are standard normal random variables, the sum\n",
    "\n",
    "$Y = X_1^2 + X_2^2 + ... + X_ n^2$\n",
    "\n",
    "is $\\chi^2$ distributed with n degrees of freedom.\n",
    "\n",
    "The Chi square table is given here: https://en.wikipedia.org/wiki/Chi-squared_distribution#Table_of_.CF.872_value_vs_p-value"
   ]
  },
  {
   "cell_type": "code",
   "execution_count": null,
   "metadata": {
    "collapsed": true
   },
   "outputs": [],
   "source": []
  },
  {
   "cell_type": "markdown",
   "metadata": {},
   "source": [
    "## Student's t distribution (the t-distribution)\n",
    "\n",
    "William Gosset published this distribution under the pseudonym \"Student\" in 1908. The statistical methods at the time assumed large sample sizes, which did not approptiately describe the result he obtained from small sample sizes. (Anecdote taken from Løvås, Statistikk for universiteter og høyskoler, p. 165).\n",
    "\n",
    "The sample mean is $\\bar{X} = (X_1 + X_2 + ... X_n)/n$ (approximately normally distributed).\n",
    "The sample variance is  $S^2 = \\frac{1}{n-1}\\sum_{i=1}^n(X-\\bar{X})^2$\n",
    "\n",
    "Then, $Z = \\frac{(\\bar{X}-\\mu)}{\\sigma/\\sqrt{n}}$ follows the standard normal distribuion.\n",
    "\n",
    "In practical situations, we do not know the true standard deviation of the population, $\\sigma$, only $S$.\n",
    "\n",
    "Gosset found the proabaility distribution of   $T = \\frac{(\\bar{X}-\\mu)}{S/\\sqrt{n}}$, which approaches $Z$ for large sample sizes. \n",
    "The T distribution has heavier tails than the standard normal distribution.\n",
    "\n",
    "For small degrees of freedom ($n$), $P(T \\leq 2)$ is much larger tgab $P(Z \\leq 2)$, which means that it is more probable to observe large values of the $T$ variable than the $Z$ variable. The spread of $T$ is larger than the spread of $Z$.\n",
    "\n",
    "The T table is given here: https://en.wikipedia.org/wiki/Student%27s_t-distribution#Table_of_selected_values"
   ]
  },
  {
   "cell_type": "code",
   "execution_count": null,
   "metadata": {
    "collapsed": true
   },
   "outputs": [],
   "source": []
  },
  {
   "cell_type": "markdown",
   "metadata": {},
   "source": [
    "## Fischer F distribution\n",
    "Is used to compare the variance of two populations, simply by dividing one by the other.\n",
    "\n",
    "$X = \\frac{U/m}{V/n}$\n"
   ]
  },
  {
   "cell_type": "code",
   "execution_count": null,
   "metadata": {
    "collapsed": true
   },
   "outputs": [],
   "source": []
  },
  {
   "cell_type": "markdown",
   "metadata": {},
   "source": [
    "## Extreme value distributions\n",
    "\n",
    "A standard hydrology task is to calculate the 100-year flood, or 1000-year flood, or the probability of low-flow. In that case, we are interested in the extreme values instead of daily values. We construct a new time series by selecting only the extreme values. This new time series is _very_ skewed (has a long tail), and the appropriate curves to fit tho this data are extreme value distributions.\n",
    "\n",
    "Three types of extreme value distributions exist, each having a heavy tail:\n",
    "\n",
    "|       Gumbel                 |         Fréchet                 | Weibull                          |\n",
    "|------------------------------|---------------------------------|----------------------------------|\n",
    "|              (Type I)        |                 (Type II)       |         (Type III)               |\n",
    "| Heavy tail to left and right |Heavy tail to the right (floods) | Heavy tail to the left (low-flow)|\n",
    "| Annual maximum river flow    |                                 | Low-flow                         |\n",
    "\n",
    "Gumbel:\n",
    "$f(x)= \\frac{1}{\\sigma}e^{-z-e^{-z}}$\n",
    "\n",
    "where $z = \\frac{x-\\mu}{\\sigma}$\n",
    "\n",
    "Fréchet:\n",
    "$f(x)= \\frac{\\alpha}{\\beta}\\big(\\frac{\\beta}{x}\\big)^{\\alpha+1}e^{(\\beta/x)^\\alpha}$,  <br/ >\n",
    "where $\\alpha, \\beta > 0$\n",
    "\n",
    "Weibull:\n",
    "$f(x)= \\frac{\\alpha}{\\beta}\\big(\\frac{x}{\\beta}\\big)^{\\alpha-1}e^{(x/\\beta)^\\alpha}$, <br/ >\n",
    "where $\\alpha, \\beta > 0$\n",
    "\n",
    "(note! If these formulas differ from the compendium, I've made typos)\n",
    "\n",
    "\n",
    "\n",
    "Learning goal 7: know that lognormal, Chi square, Student's t, F distribution and  three extreme value distributions exist: Gumbel, Fréchet and Weibull."
   ]
  },
  {
   "cell_type": "code",
   "execution_count": null,
   "metadata": {
    "collapsed": true
   },
   "outputs": [],
   "source": []
  },
  {
   "cell_type": "markdown",
   "metadata": {},
   "source": [
    "After this lecture, you should be able to ...\n",
    "\n",
    "Learning goal 1: understand what the central, spread and skewness measures are and how they are defined mathematically. (Ex1, Q3) <br/>\n",
    "Learning goal 2: understand what happens if the mean, standard deviation or skewness is changed. <br/>\n",
    "Learning goal 3: understand the difference between the pdf and the cdf. <br/>\n",
    "Learning goal 4: be able to calculate probabilities for normally distributed variables. (Ex1, Q2)<br/>\n",
    "Learning goal 5: understand what the central limit theorem means. <br/ >\n",
    "Learning goal 6: understand why the normal distribution is used to approximate probabilities for discrete distributions. <br/ >\n",
    "Learning goal 7: know that the lognormal, Chi square, Student's t, F distribution and three extreme value distributions exist: Gumbel, Fréchet and Weibull."
   ]
  },
  {
   "cell_type": "code",
   "execution_count": null,
   "metadata": {
    "collapsed": true
   },
   "outputs": [],
   "source": []
  }
 ],
 "metadata": {
  "kernelspec": {
   "display_name": "Python 2",
   "language": "python",
   "name": "python2"
  },
  "language_info": {
   "codemirror_mode": {
    "name": "ipython",
    "version": 2
   },
   "file_extension": ".py",
   "mimetype": "text/x-python",
   "name": "python",
   "nbconvert_exporter": "python",
   "pygments_lexer": "ipython2",
   "version": "2.7.10"
  }
 },
 "nbformat": 4,
 "nbformat_minor": 0
}
