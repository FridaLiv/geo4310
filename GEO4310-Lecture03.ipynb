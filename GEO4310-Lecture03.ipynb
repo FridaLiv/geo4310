{
 "cells": [
  {
   "cell_type": "markdown",
   "metadata": {},
   "source": [
    "### Statistical and Stochastic Methods in Hydrology;  Lecture 3: Properties of Random Variables"
   ]
  },
  {
   "cell_type": "markdown",
   "metadata": {},
   "source": [
    "\n",
    "\n",
    "*Outline for the day*\n",
    "\n",
    "* Review Lecture 2\n",
    "* Discrete Distributions in Earth Sciences\n",
    "    - Hypergeometric distribution\n",
    "    - Bernoulli Trials (Binomial distribution & Geometric distribution & Negative Binomial distribution)\n",
    "    - Poisson Process and distribution\n",
    "* Wrap-up review\n"
   ]
  },
  {
   "cell_type": "markdown",
   "metadata": {},
   "source": [
    "Review of Lecture 2: Main Descriptors of Random Variables\n",
    "-------------------------------------------------------------\n",
    "\n",
    "The $p.m.f.$ and $c.d.f.$ provide useful tools for describing the\n",
    "probability properties of a random variable, however, there are some\n",
    "general characteristics that are also of interest. These include:\n",
    "\n",
    "-   the *central* or *Expected Value*\n",
    "-   the *Variance*\n",
    "\n",
    "**keep in mind that two random variables may have the\n",
    "same mean, median, or otherwise, but their probability distributions may\n",
    "be quite different.**\n",
    "\n",
    "### Expected Value of a Random Variable\n",
    "\n",
    "#### Discrete Case & Continuous Case\n",
    "\n",
    "The expected value, expectation, or mean of a *discrete* random variable with a\n",
    "**probability mass function**, \\$ P(X = x\\_i ) = p\\_i\\$ is:\n",
    "\n",
    "$$E(X) = \\sum_x {p_i  x_i}$$\n",
    "\n",
    "For the *continuous* case, the expected value is simply the integral of\n",
    "the $p.d.f.$:\n",
    "\n",
    "$$E(X) = \\int_{-\\infty}^\\infty {x \\cdot f(x)dx}$$\n",
    "\n",
    "Some notes for when we cover the *Method of Moments* - The expected\n",
    "value of $(x- \\mu)^i$ is equal to the $i^{th}$ central moment\n",
    "$E[(x- \\mu)^i ] = μ_i$ ; later on we will show that when $i = 2$, $μ_i$\n",
    "is the variance.\n",
    "\n",
    "-   The expected value of $x^i$ is equal to the $i^{ th}$ moment about\n",
    "    origin $E[x^i ] = μ_i$\n",
    "\n",
    "### Measures of Central Tendency\n",
    "\n",
    "* Arithmatic Mean\n",
    "* Geometric Mean\n",
    "* Weighted Mean\n",
    "* Median\n",
    "* Mode\n",
    "\n",
    "### Measures of Dispersion\n",
    "\n",
    "* Range\n",
    "* Variance\n",
    "\n",
    "Variance provides a more robust measure of the variability of a\n",
    "population. The variance is a non-negative number given us insight into\n",
    "how widely distributed the values of the random variable are likely to\n",
    "be. If we have very high variance, it decreases the 'chance' that we\n",
    "will draw the central value. In other words, the $x_i$ are more\n",
    "scattered within the the distribution. Think of *Variance* \\~\n",
    "*variability*. We symbolize variance with $Var(X) \\ or \\ V(X)$ or\n",
    "$\\sigma^2$\n",
    "\n",
    "$$V(X) = \\sigma^2 = E[X-E(X)]^2 = E(x-\\mu)^2 = \\int (x-\\mu)^2 f(x)dx$$\n",
    "\n",
    "Note that the variance is also the **second central moment** or , $u_2$.\n",
    "\n",
    "* Coefficient of Variation\n",
    "\n",
    "### Measures of Symmetry\n",
    "\n",
    "* Skewness\n",
    "* Kurtosis\n"
   ]
  },
  {
   "cell_type": "markdown",
   "metadata": {},
   "source": [
    "Lecture 3: Discrete Distributions\n",
    "-------------------------------------------------------------\n",
    "\n",
    "What is it that we are trying to accomplish with the *Descriptors of a Random Variable*? You may have a variable in your model for which you don't have actual data and cannot derive from first principles (e.g. physical processes). It may be that our variable would be too complex to model, or we simply don't have a model for it. Hopefully, however, you have some information on this variable, and perhaps that comes in the form of a *distribution*. The *distribution* then, is simply the description of the probability of observation for that variable.\n",
    "\n",
    "There are some distributions that are well known and used often to help us describe a random variable of interest. The usefulness of the distribution stems from the following reasons: (1) The function is the result of an underlying physical process and is derived on the basis of certain physically reasonable assumptions; (2) the function is the result of some limiting process; and (3) it is widely known and the necessary statistical information is available.\n",
    "\n",
    "In prior days, before we all had access to computers, these distributions were analytically derived and calculated and the resulting probabilities were made available in the form of tables (yes, like on paper...). These tables were used in calculations -- given a look-up value, one could go to a probability table and find the statistics that were relevant for that value.\n",
    "\n",
    "Today, we rely on computers. Let's take a look...\n"
   ]
  },
  {
   "cell_type": "code",
   "execution_count": null,
   "metadata": {
    "collapsed": true
   },
   "outputs": [],
   "source": []
  },
  {
   "cell_type": "markdown",
   "metadata": {},
   "source": [
    "## Hypergeometric distribution\n",
    "\n",
    "We use the hypergeometric function when selecting values from a finite population with binary values (for example \"good\" and \"bad\").\n",
    "\n",
    "The hypergeometric distribution is drawing objects from a bin of $M$ elements.\n",
    "$M$ is the total number of objects, $n$ is total number of Type I objects in the bin, or you could think of objects with a certain property -- say blue eyes vs. brown eyes. The random variate, $x$ represents the number of Type I objects in $N$ samples drawn without replacement from the total population.\n",
    "\n",
    "\n",
    "**Note: our notebooks are currently unable to render the math code below, see the compendium**\n",
    "The probability mass function is defined as:\n",
    "\n",
    "    f_x(x; M,N,n) = {\\binom{n x}\\binom{M-n}{N-x}\\over{\\binom M N}}\n",
    "    \n",
    "\n",
    "The cumulative distribution function that is defined as:\n",
    "\n",
    "    F_x(x; M,N,n) ={ \\sum_{i=0}^x( \\binom n i \\binom{M-n}{N-i})\\over\\binom M N }\n",
    "\n",
    "\n",
    "The $E(x)$, or **expected value** is given by:\n",
    "\n",
    "$$ E(x) = {n*k\\over N}$$\n",
    "\n",
    "\n",
    "The **variance** is given by:\n",
    "\n",
    "$$Var(x) ={ n*k(N-k)(N-n)\\over N^2 * (N-1)}$$\n",
    "\n",
    "\n",
    "### Examples\n"
   ]
  },
  {
   "cell_type": "code",
   "execution_count": 53,
   "metadata": {
    "collapsed": false
   },
   "outputs": [
    {
     "data": {
      "text/latex": [
       "$$f_x(x; M,N,n) = \\binom{\\binom{n x}\\binom{M-n}{N-x}}{\\binom M N}$$"
      ],
      "text/plain": [
       "<IPython.core.display.Math object>"
      ]
     },
     "execution_count": 53,
     "metadata": {},
     "output_type": "execute_result"
    }
   ],
   "source": [
    "from IPython.display import Latex, Math\n",
    "Math(r'''f_x(x; M,N,n) = \\binom{\\binom{n x}\\binom{M-n}{N-x}}{\\binom M N}''')"
   ]
  },
  {
   "cell_type": "code",
   "execution_count": 54,
   "metadata": {
    "collapsed": true
   },
   "outputs": [],
   "source": [
    "%matplotlib inline\n",
    "import numpy as np\n",
    "import matplotlib.pyplot as plt"
   ]
  },
  {
   "cell_type": "markdown",
   "metadata": {},
   "source": [
    "We are considering the following:\n",
    "\n",
    "Assumptions for binomial distribution | \n",
    "------------ |\n",
    "1. There is a population of $M$ items divided into two groups (blue or brown), $n$ of which are belonging to one group (blue) and $M-n$ belong to the other group (brown).|\n",
    "2. A random sample (without replacement) of $N$ items is taken from the $M$ items.|\n",
    "3. Probability of getting $x$ successes (blue eyes) in $N$ trials; which is given by $f_x(x; M, N, n)$|\n",
    "\n",
    "### Rainy days in Uppsala\n",
    "*Note this is compendium example 3.1*\n",
    "\n",
    "Historical data show that there are 10 rainy days in June in Uppsala. Assume the rainy days are independent (*is this a fair assumption?*). You want to go to the field for a week to measure rainfall intensity.\n",
    "\n",
    "a. What is the probability of 4 rainy days in 7 randomly selected days in June?\n",
    "b. What is the probability that less than 4 of these randomly selected days are rainy?\n",
    "\n",
    "**Solution**"
   ]
  },
  {
   "cell_type": "code",
   "execution_count": 55,
   "metadata": {
    "collapsed": false
   },
   "outputs": [
    {
     "name": "stdout",
     "output_type": "stream",
     "text": [
      "0.11759504863\n"
     ]
    },
    {
     "data": {
      "image/png": "[encoded data removed]",
      "text/plain": [
       "<matplotlib.figure.Figure at 0x16d9a400>"
      ]
     },
     "metadata": {},
     "output_type": "display_data"
    }
   ],
   "source": [
    "from scipy.stats import hypergeom\n",
    "[M, n, N] = [30, 10, 7]\n",
    "\n",
    "rv = hypergeom(M, n, N)\n",
    "x = np.arange(0, n+1)\n",
    "f_x = rv.pmf\n",
    "\n",
    "fig = plt.figure()\n",
    "ax = fig.add_subplot(111)\n",
    "ax.plot(x, f_x(x), 'bo')\n",
    "ax.vlines(x, 0, f_x(x), lw=2)\n",
    "ax.set_xlabel('# of rainy days in the month')\n",
    "ax.set_ylabel('hypergeom PMF')\n",
    "\n",
    "print(f_x(4))\n"
   ]
  },
  {
   "cell_type": "code",
   "execution_count": 56,
   "metadata": {
    "collapsed": false
   },
   "outputs": [
    {
     "name": "stdout",
     "output_type": "stream",
     "text": [
      "0.856763925729\n"
     ]
    },
    {
     "data": {
      "image/png": "[encoded data removed]",
      "text/plain": [
       "<matplotlib.figure.Figure at 0x177b6cc0>"
      ]
     },
     "metadata": {},
     "output_type": "display_data"
    }
   ],
   "source": [
    "#let's look at case b... cumulative distribution.\n",
    "\n",
    "F_x = rv.cdf\n",
    "fig = plt.figure()\n",
    "ax = fig.add_subplot(111)\n",
    "ax.plot(x, F_x(x), 'bo')\n",
    "ax.vlines(x, 0, F_x(x), lw=2)\n",
    "ax.set_xlabel('# of rainy days in the month')\n",
    "ax.set_ylabel('hypergeom CDF')\n",
    "\n",
    "# Note that we asked, **less than 4**, so we have to look at the CDF=3\n",
    "print(F_x(3))"
   ]
  },
  {
   "cell_type": "markdown",
   "metadata": {},
   "source": [
    "## Bernoulli Trials\n",
    "\n",
    "When we are considering events that *may* or *may not* occur, such as, for example, the annual maximum flow of a river exceeding a certain specified flood level, then we can consider the number of events in the sequence *trials*. In general, there will be only two outcomes, and we consider this a Bernoulli Process.\n",
    "\n",
    "Note that if we consider the exceedence of a flood level, we are considering *the maximum discharge over the year* against the specific level. That is, our trial occurrs once per year and we are going to ask, \"What is the probability of the maximum discharge for the year exceeding the flood level?\". We are not considering whether at any time, the river will exceed the specified level -- this is a different question.\n",
    "\n",
    "Our **Bernoulli sequence** is a model that is based on the following assumptions:\n",
    "\n",
    "1. Each trial has only two possible outcomes: the *occurrence* or *non-occurrence* of an event.\n",
    "2. The probability of occurrence of the event in each trial is constant.\n",
    "3. The trials are statistically independent.\n",
    "\n",
    "In our example, we're assuming then that the likelyhood of the river's maximum discharge exceeding the specified flood level from one year to the next is independent, and each year the probability of exceeding the flood level is constant, then *the annual maximum floods over a series of years* constitutes a *Bernoulli sequence*.\n",
    "\n",
    "There are a few distributions that we use to work with the Bernoulli sequence. The main ones are the **binomial** distribution, the **geometric** distribution, and the **negative binomial** distribution. To understand how these are used, it is best to understand the underlying assumptions for each type of distribution.\n",
    "\n",
    "### Binomial distribution\n",
    "The *Bernoulli sequence*, named after [James Bernoulli](https://en.wikipedia.org/wiki/Jacob_Bernoulli) is one of the simplest but most important random processes in probability.\n",
    "\n",
    "Assumptions for binomial distribution | \n",
    "------------ |\n",
    "1. There are n trials, each classifiable as 'success' or 'failure' |\n",
    "2. The trials are independent (draw a sample *with* replacement, __which is different from hypergeometric__) |\n",
    "3. Probability of getting $x$ successes (elements with property $k$) is $n$ trials? |\n",
    "\n",
    "**Note: our notebooks are currently unable to render the math code below, see the compendium**\n",
    "\n",
    "The $p.m.f.$ has the general form:\n",
    "\n",
    "    f_x(x; n, p) = \\binom n x p^x q^{n-x}\n",
    "\n",
    "Where $x$ is the number of successes, $n$ is the number of trials, and $p$ is the probability of one success. \n",
    "\n",
    "The $c.d.f.$ has the form:\n",
    "    \n",
    "    F_x(x; n,p) = \\sum_{x=0}^x \\binom n i p^i q^{n-i}\n",
    "    \n",
    "The $E(x)$ is given by:\n",
    "\n",
    "$$ E(x) = np$$\n",
    "\n",
    "and:\n",
    "\n",
    "$$Var(x) =npq$$\n",
    "\n",
    "We can also calculate a **coefficient of skewness**:\n",
    "\n",
    "$$\\gamma_x = {p-q\\over \\sqrt{npq}}$$\n",
    "\n",
    "\n",
    "### Examples\n"
   ]
  },
  {
   "cell_type": "markdown",
   "metadata": {},
   "source": [
    "### Runoff Exceedence\n",
    "*Note this is compendium example 3.5*\n",
    "\n",
    "The probability of runoff exceeding a certain limit for any given year is $p$. Suppose the exceedance of runoff in any year is independent.\n",
    "\n",
    "a. What is the probability the runoff will exceed this limit once in three years?\n",
    "\n",
    "**Solution**\n",
    "\n",
    "This is an analytical question, as you would require the value of $p$ the calculate it. So, let's take a look at the analytical solution:\n",
    "\n",
    "Let $q=1-p$ be the probability of runoff **not** exceeding its limit in a year.\n",
    "\n",
    "Also, let's look back at keywords in the question, \"**once in three years**\". So, there we've already established that this 'event' is only going to happen one time. \n",
    "Then we have three possible arrangements that give us probabilities of events\n",
    "\n",
    "$pqq$ (exceed in year 1), $qpq$ (exceed in year 2), and $qqp$ (exceed in year three)\n",
    "\n",
    "Now recall, from Lecture 1 that the joint probability of three independent events is simply $P(A \\cup B \\cup C) = P(A) + P(B) + P(C)$, since in any one year the maximum discharge can exceed ($p$) or *not exceed* ($q$) the flood limit.\n",
    "\n",
    "Let's call event a, the probability of exceeding one time in 3 years. Then we have:\n",
    "$$P(a) = pqq + qpq + qqp = 3pq^2$$\n",
    "\n",
    "A more general form:\n",
    "\n",
    "    $$P(a) = \\binom 3 1 p^1 q^{3-1} = {3!}\\over{1!(3-1)!)} p^1q^2 $$\n",
    "\n",
    "\n",
    "### Balls in a box\n",
    "*Note this is compendium example 3.6*\n",
    "\n",
    "A box contains 1000 balls, of which 200 are red balls. Let's perform an experiment in such a way that each time a ball is taken from the box in random, its colr is observed and then the ball is put back (*replacement!*). What is the probability of getting 10 red balls in the 100 trials?\n",
    "\n",
    "**Solution**\n",
    "\n",
    "Okay, in this case we have some numbers to play with...."
   ]
  },
  {
   "cell_type": "code",
   "execution_count": 74,
   "metadata": {
    "collapsed": false
   },
   "outputs": [
    {
     "name": "stdout",
     "output_type": "stream",
     "text": [
      "0.00336281996958\n"
     ]
    },
    {
     "data": {
      "text/plain": [
       "<matplotlib.collections.LineCollection at 0x1956d710>"
      ]
     },
     "execution_count": 74,
     "metadata": {},
     "output_type": "execute_result"
    },
    {
     "data": {
      "image/png": "[encoded data removed]",
      "text/plain": [
       "<matplotlib.figure.Figure at 0x1956d588>"
      ]
     },
     "metadata": {},
     "output_type": "display_data"
    }
   ],
   "source": [
    "from scipy.stats import binom\n",
    "\n",
    "#Note the probability mass function for the binomial distribution\n",
    "#is defined in the \"standardized\" form, see docs for more details.\n",
    "\n",
    "n, p = 100, 200/1000.\n",
    "x = 10\n",
    "\n",
    "f_x = binom(n, p).pmf\n",
    "\n",
    "print(f_x(x))\n",
    "\n",
    "# let's look a bit closer\n",
    "\n",
    "X = np.arange(binom.ppf(.1, n, p), binom.ppf(1, n, p))\n",
    "X2 = np.arange(100)\n",
    "fig = plt.figure()\n",
    "ax = fig.add_subplot(111)\n",
    "ax.plot(X, f_x(X), 'bo', ms=4, label='binom pmf')\n",
    "ax.plot(X2, f_x(X2), 'y+', ms=4, label='binom pmf')\n",
    "\n",
    "ax.vlines(X, 0, f_x(X), colors='b', lw=3, alpha=0.5)"
   ]
  },
  {
   "cell_type": "markdown",
   "metadata": {},
   "source": [
    "#### References / Notes\n",
    "\n",
    "Concepts and Examples are based on\n",
    "\n",
    "1. Ang H-S.A., Tang W.H.; Probability Concepts in Engineering Planning and Design, Volume 1: Basic Principles <http://books.google.no/books/about/Probability_Concepts_in_Engineering_Plan.html?id=EIRRAAAAMAAJ&redir_esc=y>\n",
    "2. Haan, C.; Statistical Methods in Hydrology 2nd. Edition. "
   ]
  }
 ],
 "metadata": {
  "kernelspec": {
   "display_name": "Python 2",
   "language": "python",
   "name": "python2"
  },
  "language_info": {
   "codemirror_mode": {
    "name": "ipython",
    "version": 2
   },
   "file_extension": ".py",
   "mimetype": "text/x-python",
   "name": "python",
   "nbconvert_exporter": "python",
   "pygments_lexer": "ipython2",
   "version": "2.7.10"
  }
 },
 "nbformat": 4,
 "nbformat_minor": 0
}
