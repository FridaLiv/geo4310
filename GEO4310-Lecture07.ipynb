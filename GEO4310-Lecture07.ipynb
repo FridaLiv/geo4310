{
 "cells": [
  {
   "cell_type": "markdown",
   "metadata": {},
   "source": [
    "## Chapter 7\n",
    "\n",
    "### Testing the goodness of fit of data to probability distributions\n",
    "\n",
    "#### 1. The chi-square test\n",
    "\n",
    "- **Chi-square distribution**\n",
    "\n",
    "If we draw all possible samples of size n from a normal population and plot $\\sum z^2$, they would form\n",
    "the Chi-square $\\chi^2$ distribution as mentioned earlier.\n",
    "\n",
    "The $\\chi^2$ distribution in hydrology is used to compare whether the distribution of the data is same\n",
    "with or different from the predetermined distribution and to test the significance of the\n",
    "similarity/dissimilarity.\n",
    "\n",
    "$$ \\chi_c^2 = \\sum_{i=1}^n Z_i^2 = \\sum_{i=1}^n \\left( \\frac{x_i - \\mu}{\\sigma}\\right)^2 $$\n",
    "\n",
    "The $\\chi^2$ test is most often used on data that have been grouped into classes. Assuming that our\n",
    "observations have been grouped into k classes, the test statistic is found as:\n",
    "\n",
    "$$ \\chi_c^2 = \\sum_{j=1}^k \\frac{(O_j - E_j)^2}{E_j} $$\n",
    "\n",
    "where $O_j$ and $E_j$ are the number of observed and expected values in the j'th class.\n",
    "\n",
    "- **Procedure of using $\\chi^2$ test**\n",
    "    - Group data into class ($5\\sim10$)\n",
    "    - Count the number of observations in each class, denote it as $O_j$\n",
    "    - Determine the expected number of observations in each class which equals to the expected\n",
    "        relative frequency multiplying by the total number of observations (for details see Lecture $4$\n",
    "        and Table $5.1$ and Figure $5.5$ in page $108$, Haan), denote it as $E_j$\n",
    "    - Calculate the test statistic: $$ \\chi_c^2 = \\sum_{j=1}^k \\frac{(O_j - E_j)^2}{E_j} $$\n",
    "    - The *null hypothesis* that the data are from the specified distribution is rejected if: \n",
    "    \n",
    "    $$ \\chi_c^2 > \\chi_{1-\\alpha,k-1-p}^2$$\n",
    "    \n",
    "where: $\\alpha$ is the significance level, $k-p-1$ degrees of freedom, $k$ the number of classes, $p$ the number of\n",
    "parameters of the specified distribution."
   ]
  },
  {
   "cell_type": "markdown",
   "metadata": {},
   "source": [
    "#### Example 7.1\n",
    "\n",
    "The annual peak flow of Kentucky River is measured for $66$ years (Haan, table $2.1$). At\n",
    "significance level $\\alpha=0.05$ test the null hypothesis that the annual peak flow is normally\n",
    "distributed.\n",
    "\n",
    "**Solution:**\n",
    "\n",
    "$$H_0\\text{:} \\ \\ \\text{data normally distributed}; \\ \\ \\ \\ H_a\\text{:} \\ \\ \\text{data not normally distributed}$$\n",
    "\n",
    "Test statistic:\n",
    "\n",
    "$$ \\chi_c^2 = \\sum_{i=1}^k \\frac{(O_i - E_i)^2}{E_i} $$\n",
    "\n",
    "Reject $H_0$ if:\n",
    "\n",
    "$$ \\chi_c^2 = \\sum \\frac{(O-E)^2}{E} > \\chi_{1-\\alpha,k-p-1}^2 $$\n",
    "\n",
    "We know that \n",
    "\n",
    "$$ N = 66; \\ \\ Q_{\\text{mean}} = 67.5 \\ \\ (\\text{calculated from data}); \\ \\ \\sigma = 21.0 \\ \\ (\\text{calculated from data})  $$\n",
    "\n",
    "The expected relative frequency, e.g. of the first class, is calculated as:\n",
    "\n",
    "$$f_{x_i} = P(20 < x < 30) = P\\left(z < \\frac{30-67.5}{21}\\right) - P\\left(z < \\frac{20-67.5}{21}\\right)$$\n",
    "\n",
    "$$\\Rightarrow f_{x_{i}} = P(z < -1.78) - P(z<-2.26) = [1-P(z<1.68)] - [1-P(z<2.26)] $$\n",
    "\n",
    "$$\\Rightarrow f_{x_i} = 0.026 $$\n",
    "\n",
    "$O=$ observed number of data in each class\n",
    "\n",
    "$E=$ expected number of data in each class $=f_{x_i}\\cdot N$"
   ]
  },
  {
   "cell_type": "code",
   "execution_count": null,
   "metadata": {
    "collapsed": false
   },
   "outputs": [],
   "source": [
    "###HERE WE HAVE A CHOICE BETWEEN WRITING DOWN THE TABLE IN THE SOURCE TEXT OR MAKE A PROGRAM THAT DOES IT \n",
    "###AND CREATES THE PLOT DISPLAYED. AS OF NOW I CANT FIND A INTELLIGENT WAY TO THIS."
   ]
  },
  {
   "cell_type": "markdown",
   "metadata": {},
   "source": [
    "**Under assumption that the above is done in some way**\n",
    "\n",
    "$$\\Rightarrow \\chi_c^2 = 10.25$$\n",
    "\n",
    "$k=$ number of classes $=10$\n",
    "\n",
    "$p=$ number of parameters in the assumed distribution (normal) $=2$ (mean and variance)\n",
    "\n",
    "!Note that the chi-square table in the appendix gives the values for $\\chi_{\\alpha,k−p−1}^2$, therefore we should look up:\n",
    "\n",
    "$$\\chi_{\\alpha,k-p-1}^2 = \\chi_{0.05,10-2-1}^2 = \\chi_{0.05,7}^2 = 14.1$$\n",
    "\n",
    "$$\\Rightarrow \\chi_c^2 < \\chi_{0.05,7}^2$$\n",
    "\n",
    "and therefore we cannot reject the hypothesis that the data are normally distributed."
   ]
  },
  {
   "cell_type": "markdown",
   "metadata": {},
   "source": [
    "#### Example 7.2\n",
    "\n",
    "Test if the die is fair.\n",
    "If the die is fair, the chance for each side up shall be the same if it is tossed many times (the\n",
    "expected number is uniformly distributed). An example is done by tossing $60$ time and the\n",
    "outcomes are:\n",
    "\n",
    "**Table 7.2: Outcomes of tossing the die $60$ times**\n",
    "\n",
    "|Side|Number of times|\n",
    "|---:|---:|\n",
    "|1|4|\n",
    "|2|6|\n",
    "|3|17|\n",
    "|4|16|\n",
    "|5|8|\n",
    "|6|9|\n",
    "\n",
    "**Solution:**\n",
    "\n",
    "$$H_0\\text{: the die is fair}; \\ \\ \\ H_a\\text{: the die is not fair}$$\n",
    "\n",
    "Decision rule: Reject $H_0$ if\n",
    "\n",
    "$$\\chi_c^2 > \\chi_{1-\\alpha,k-p-1}^2$$\n",
    "\n",
    "where $\\alpha=0.05$, $k=6$, $p=0$.\n",
    "\n",
    "**Table 7.3: Calculation of $\\chi_c^2$ test statistic**\n",
    "\n",
    "|Side|Observed frequency (O)|Expected frequency (E) | $\\frac{(O-E)^2}{E}$|\n",
    "|---:|---:|---:|---:|\n",
    "|1|4|10|3.6|\n",
    "|2|6|10|1.6|\n",
    "|3|17|10|4.9|\n",
    "|4|16|10|3.6|\n",
    "|5|8|10|0.4|\n",
    "|6|9|10|0.1|\n",
    "\n",
    "$$\\Rightarrow \\chi_c^2 = \\sum_{i=1}^6 \\frac{(O_i - E_i)^2}{E_i} = 14.2$$\n",
    "\n",
    "$$\\chi_{0.95,5}^2 = 11.1$$\n",
    "\n",
    "Since $\\chi_c^2 > \\chi_{0.95,5}^2$, the hypothesis that the die is fair is rejected."
   ]
  },
  {
   "cell_type": "markdown",
   "metadata": {},
   "source": [
    "#### Example 7.3\n",
    "\n",
    "Test if the sex of the new born babies in a city is biased.\n",
    "In a city there are $442$ babies born in two months, of which $224$ are boys and $218$ girls, test if the\n",
    "sex of babies is biased at $5\\%$ significance level. (i.e. test if the sample is uniformly distributed).\n",
    "\n",
    "**Solution:**\n",
    "\n",
    "$$H_0\\text{: sample is not biased}; \\ \\ \\ H_a\\text{: sample is biased}$$\n",
    "\n",
    "Test statistic:\n",
    "\n",
    "$$\\chi_c^2 = \\sum_{i=1}^k \\frac{(O_i-E_i)^2}{E_i}$$\n",
    "\n",
    "Decision rule: Reject $H_0$ if\n",
    "\n",
    "$$\\chi_c^2 > \\chi_{1-\\alpha,k-p-1}^2$$\n",
    "\n",
    "where $\\alpha = 0.05$, $k=2$, $p=0$.\n",
    "\n",
    "**Table 7.4:Calculation of $\\chi_c^2$ test statistic**\n",
    "\n",
    "|Class|Expected number (E) | Observed number (O) | $\\frac{(O-E)^2}{E}$ |\n",
    "|---:|---:|---:|---:|\n",
    "|**Female**|221|224|0.041|\n",
    "|**Male**|221|218|0.041|\n",
    "\n",
    "$$\\Rightarrow \\chi_c^2 = \\sum_{i=1}^2 \\frac{(O_i-E_i)^2}{E_i} = 0.041+0.041 = 0.082 $$\n",
    "\n",
    "$$\\chi_{1-0.05,2-0-1}^2 = \\chi_{0.95,1}^2 = 3.8$$\n",
    "\n",
    "Since $\\chi_c^2 < \\chi_{0.95,1}^2$, we cannot reject the hypothesis that the sample is not biased."
   ]
  },
  {
   "cell_type": "markdown",
   "metadata": {},
   "source": [
    "### 2. Kolmogorov-Smirnov test\n",
    "\n",
    "The **Kolmogorov-Smirnov** test is used to compare whether the distribution of the data is same with\n",
    "or different from the predetermined distribution and to test the significance of the\n",
    "similarity/dissimilarity.\n",
    "\n",
    "The test is based on the comparison between the cumulative observed and expected theoretical\n",
    "frequency curve of the distribution to be tested.\n",
    "\n",
    "Procedure:\n",
    "\n",
    "- Calculate the expected cumulative frequency (values of cumulative distribution function), $F^e(x)$\n",
    "- Calculate the sample cumulative frequency, $F^o(x)=k/n$, where $k$ is the number of observation less than or equal to $x$, and $n$ is the total number of observations.\n",
    "- Determine the maximum deviation, $D$\n",
    "\n",
    "$$D = \\text{max}|F^e(x)-F^o(x)| $$\n",
    "\n",
    "- If, for the chosen significance level, the value D is greater than or equal to critical tabulated value of the Kolmogorov-Smirnov statistic, the hypothesis that the data fit the tested distributed is rejected.\n",
    "\n",
    "$$H_0\\text{:} \\ \\ F^o(x) = F^e(x); \\ \\ \\ H_a\\text{:} \\ \\ F^o(x) \\neq F^e(x) $$\n",
    "\n",
    "In the following example, we test if the data is normally distributed. The method can be used to test\n",
    "if the data fits other distributions, like, lognormal, exponential, Pearson, etc. In this case, when\n",
    "calculating $F^e(x)$, the distribution function that is to be tested is used."
   ]
  },
  {
   "cell_type": "markdown",
   "metadata": {},
   "source": [
    "#### Example 7.4\n",
    "\n",
    "The annual peak flows $Q[l/s)]$ for $11$ years are given in table the array $Q$ in the program below. Test the null hypothesis that\n",
    "$Q$ is normally distributed, using the **Kolmogorov-Smirnov test**.\n",
    "\n",
    "**Solution:**\n",
    "\n",
    "$$Q_{\\text{mean}} = 53.83; \\ \\ \\ \\ s = 24.63 $$\n",
    "\n",
    "In the table $7.5$ are shown:\n",
    "\n",
    "$$F^o(x) = \\text{observed cumulative frequency} = \\frac{m_i}{11} $$\n",
    "\n",
    "$$z = \\text{standardized} \\ \\ Q = \\frac{Q_i-Q_{\\text{mean}}}{s}$$\n",
    "\n",
    "$$F^e(x) = \\text{expected cumulative frequency} = P(Z<z_i) \\ \\ \\text{(from normal distribution table)} $$\n",
    "\n",
    "$$D = \\text{deviation of observed from the expected cumulative frequency} = |F^e(Q)-F^o(Q)|$$"
   ]
  },
  {
   "cell_type": "code",
   "execution_count": 10,
   "metadata": {
    "collapsed": false
   },
   "outputs": [
    {
     "name": "stdout",
     "output_type": "stream",
     "text": [
      "max|D| = 0.131\n"
     ]
    }
   ],
   "source": [
    "#\n",
    "import numpy as np\n",
    "from scipy.stats import norm #See: http://docs.scipy.org/doc/scipy-0.14.0/reference/generated/scipy.stats.norm.html\n",
    "%matplotlib inline\n",
    "import matplotlib\n",
    "import matplotlib.pyplot as plt\n",
    "\n",
    "matplotlib.rcParams['figure.figsize'] = (8.0, 8.0)\n",
    "Qmean = 53.83\n",
    "s = 24.63\n",
    "\n",
    "Q = np.array([32.1,41.8,77.6,71.8,82.5,50.3,22.5,71.8,9.2,74,58.5]) #Q[l/s]\n",
    "Q_sorted = np.sort(Q) #Sort the Q values in ascending order\n",
    "m = np.arange(1,12) #Create array m=[1,...,11] note that 12 is not in m when we use arange.\n",
    "Fo = m/11.0 #Compute Fo\n",
    "z = (Q_sorted-Qmean)/s #Compute z\n",
    "Fe = norm.cdf(z) #Compute Fe\n",
    "D = np.abs(Fe-Fo)\n",
    "\n",
    "print \"max|D| = %.3f\" % max(D)"
   ]
  },
  {
   "cell_type": "markdown",
   "metadata": {
    "collapsed": true
   },
   "source": [
    "For $\\alpha = 0.05$ and $n=11$:\n",
    "\n",
    "$$D_{\\text{critical}} = 0.391 \\ \\ (\\text{from appendix, table A16}) $$\n",
    "\n",
    "$$\\Rightarrow \\text{max}|D| < D_{critical} $$\n",
    "\n",
    "And therefore the hypothesis that the data are normally distributed cannot be rejected."
   ]
  },
  {
   "cell_type": "code",
   "execution_count": 44,
   "metadata": {
    "collapsed": false
   },
   "outputs": [
    {
     "data": {
      "image/png": "[encoded data removed]",
      "text/plain": [
       "<matplotlib.figure.Figure at 0x7f6ca3b497d0>"
      ]
     },
     "metadata": {},
     "output_type": "display_data"
    }
   ],
   "source": [
    "plt.plot(Fe,Q_sorted,'-ro')\n",
    "plt.plot(Fo,Q_sorted,'-bo')\n",
    "plt.annotate('max|D|', fontsize=12, xy=(Fo[6], Q_sorted[6]), xytext=(0.5, 83),\n",
    "            arrowprops=dict(facecolor='green', shrink=0.002),\n",
    "            )\n",
    "plt.annotate('max|D|',fontsize=12, xy=(Fe[6], Q_sorted[6]), xytext=(0.5, 83),\n",
    "            arrowprops=dict(facecolor='green', shrink=0.002),\n",
    "            )\n",
    "plt.legend(['Expected','Observed'],loc='upper left')\n",
    "plt.xlabel('$F^e(Q), \\ \\ F^o(Q)$',fontsize=18)\n",
    "plt.ylabel('$Q[l/s]$',fontsize=18)\n",
    "plt.title('Observed and expected cumulative frequencies.',fontsize=18)\n",
    "plt.show()"
   ]
  }
 ],
 "metadata": {
  "kernelspec": {
   "display_name": "Python 2",
   "language": "python",
   "name": "python2"
  },
  "language_info": {
   "codemirror_mode": {
    "name": "ipython",
    "version": 2
   },
   "file_extension": ".py",
   "mimetype": "text/x-python",
   "name": "python",
   "nbconvert_exporter": "python",
   "pygments_lexer": "ipython2",
   "version": "2.7.6"
  }
 },
 "nbformat": 4,
 "nbformat_minor": 0
}
